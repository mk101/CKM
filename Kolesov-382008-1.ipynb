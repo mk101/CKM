{
 "cells": [
  {
   "cell_type": "markdown",
   "metadata": {},
   "source": [
    "# Вариант 9\n",
    "Цель данного упражнения – экспериментально выяснить зависимость числа обусловленности $1$ от порядка случайной матрицы. Пусть $A_n$ – матрица порядка $n$ со случайными элементами, распределенными по нормальному закону с мат ожиданием $0$ и средним квадратическим отклонением $1$. Экспериментальным путем необходимо выяснить, что в среднем $_1A_n$ растет как показательная функция от $n$, а именно, что для большинства матриц.\n",
    "$$\n",
    "c_1n^p \\le _1A_n \\le c_2n^p\n",
    "$$\n",
    "Экспериментально необходимо подобрать $p, c_1, c_2$ Для этого испытайте серию случайных матриц $A_n$ разных порядков (например, $1 \\le n \\le 100$). Для каждой сгенерированной матрицы на графике изобразите точкой зависимость числа обусловленности $_1A_n$ от порядка $n$. Используйте двойную логарифмическую шкалу. В этой шкале показательные функции изображаются прямыми линиями. Подберите $p, c_1, c_2$ и в тех же осях нарисуйте графики функций $c_1n^p, c_2n^p$"
   ]
  },
  {
   "cell_type": "code",
   "execution_count": 1,
   "metadata": {},
   "outputs": [],
   "source": [
    "import numpy as np\n",
    "import matplotlib.pyplot as plt\n",
    "%matplotlib inline\n",
    "from scipy import signal, optimize"
   ]
  },
  {
   "cell_type": "markdown",
   "metadata": {},
   "source": [
    "# Генерация матриц\n",
    "Сгенерируем 100 случайных матриц с порядком от 1 до 100. В качестве функции для генерации случайных матриц будем использовать функцию numpy.random.normal($\\mu$, $\\sigma$), где $\\mu$ - мат ожидание, равное $0$, а $\\sigma$ - среднее квадратическое отклонение, равное $1$."
   ]
  },
  {
   "cell_type": "code",
   "execution_count": 2,
   "metadata": {},
   "outputs": [],
   "source": [
    "n = 100\n",
    "matrixs = []\n",
    "np.random.seed(42)\n",
    "for i in range(1, n+1):\n",
    "    matrixs.append(np.random.normal(0,1, size=(i,i)))"
   ]
  },
  {
   "cell_type": "markdown",
   "metadata": {},
   "source": [
    "Создадим numpy массив матхеттенских чисел обусловленности, используя функцию numpy.linalg.cond данных массив будем использовать в качестве значений по оси $OY$. Для генерации последовательности от $1$ до $100$, используемуе в качестве значений по оси $OX$, будем использовать функцию numpy.linspace.\n",
    "\n",
    "Отобразим на логарифмическом графике полученные числа обусловленности."
   ]
  },
  {
   "cell_type": "code",
   "execution_count": 3,
   "metadata": {},
   "outputs": [
    {
     "data": {
      "image/png": "[encoded data removed]",
      "text/plain": [
       "<Figure size 432x288 with 1 Axes>"
      ]
     },
     "metadata": {
      "needs_background": "light"
     },
     "output_type": "display_data"
    }
   ],
   "source": [
    "conds = np.array(list(map(lambda A: np.linalg.cond(A,1), matrixs)))\n",
    "sizes = np.linspace(1, n, n)\n",
    "\n",
    "plt.loglog(sizes, conds, '.')\n",
    "plt.xlabel('n')\n",
    "plt.ylabel('$_1A_n$')\n",
    "pass"
   ]
  },
  {
   "cell_type": "markdown",
   "metadata": {},
   "source": [
    "# Поиск констант\n",
    "Объявим функции $cn^p$, где в 1 аргемент $p$ является параметром функции, а во 2 используется глобальное значение. Параметр $c$ используется в обоих функциях."
   ]
  },
  {
   "cell_type": "code",
   "execution_count": 4,
   "metadata": {},
   "outputs": [],
   "source": [
    "p = 0\n",
    "def func(n, c, p):\n",
    "    return c* (n**p)\n",
    "def funcP(n,c):\n",
    "    return c*(n**p)"
   ]
  },
  {
   "cell_type": "markdown",
   "metadata": {},
   "source": [
    "Поиск будем осуществлять, используя минимумы и максимумы чисел обусловленности. Для поиска минимумов и максимумов будем использовать функции signal.argrelmin и signal.argrelmax соответственно."
   ]
  },
  {
   "cell_type": "code",
   "execution_count": 5,
   "metadata": {
    "scrolled": true
   },
   "outputs": [],
   "source": [
    "maxs = signal.argrelmax(conds, order=10)[0]\n",
    "maxsY = conds[maxs]\n",
    "\n",
    "mins = signal.argrelmin(conds, order=10)[0]\n",
    "minsY = conds[mins]"
   ]
  },
  {
   "cell_type": "markdown",
   "metadata": {},
   "source": [
    "Первым делом найдем $c_1 и p$ используя функцию scipy.optimize.curve_fit, где в качестве аргументов укажем функцию func и координаты точек минимума. Запомним полученный $p$. Повторим операцию, для нахождения $c_2$, в качестве аргумента для функции scipy.optimize.curve_fit укажем функцию funcP (где используется найденный $p$) и координаты точек максимума."
   ]
  },
  {
   "cell_type": "code",
   "execution_count": 6,
   "metadata": {},
   "outputs": [],
   "source": [
    "poptMin, _ = optimize.curve_fit(func, mins, minsY)\n",
    "\n",
    "p = poptMin[1]\n",
    "\n",
    "poptMax, _ = optimize.curve_fit(funcP, maxs, maxsY)\n",
    "\n",
    "c1, c2 = poptMin[0], poptMax[0]"
   ]
  },
  {
   "cell_type": "markdown",
   "metadata": {},
   "source": [
    "Добавим на наш граффик функции $c_1n^p$ и $c_2n^p$"
   ]
  },
  {
   "cell_type": "code",
   "execution_count": 7,
   "metadata": {},
   "outputs": [
    {
     "data": {
      "image/png": "[encoded data removed]",
      "text/plain": [
       "<Figure size 432x288 with 1 Axes>"
      ]
     },
     "metadata": {
      "needs_background": "light"
     },
     "output_type": "display_data"
    }
   ],
   "source": [
    "plt.loglog(sizes, conds, '.', label='$cond_1 A_n$')\n",
    "plt.loglog(sizes, funcP(sizes, *poptMax), label='$c_2n^p$')\n",
    "plt.loglog(sizes, func(sizes, *poptMin), label='$c_1n^p$')\n",
    "plt.xlabel('n')\n",
    "plt.ylabel('$_1A_n$')\n",
    "plt.legend()\n",
    "pass"
   ]
  },
  {
   "cell_type": "markdown",
   "metadata": {},
   "source": [
    "# Проверка\n",
    "Проверим, сколько раз выполняется условие $c_1n^p \\le _1A_n \\le c_2n^p$ $(1)$"
   ]
  },
  {
   "cell_type": "code",
   "execution_count": 8,
   "metadata": {},
   "outputs": [
    {
     "data": {
      "text/plain": [
       "82"
      ]
     },
     "execution_count": 8,
     "metadata": {},
     "output_type": "execute_result"
    }
   ],
   "source": [
    "check = 0\n",
    "for i in range(1, n+1):\n",
    "    if func(i, c1, p) <= conds[i-1] <= func(i, c2, p):\n",
    "        check += 1\n",
    "check"
   ]
  },
  {
   "cell_type": "markdown",
   "metadata": {},
   "source": [
    "Условие $(1)$ выполняется $82$ раза из $100$. Значит искомые $c_1, c_2, p$ Найдены. Выведем их значение."
   ]
  },
  {
   "cell_type": "code",
   "execution_count": 9,
   "metadata": {},
   "outputs": [
    {
     "name": "stdout",
     "output_type": "stream",
     "text": [
      "c1 = 2.562851 c2 = 173.387974 p = 1.364190\n"
     ]
    }
   ],
   "source": [
    "print('c1 = %lf c2 = %lf p = %lf' % (c1, c2, p))"
   ]
  }
 ],
 "metadata": {
  "kernelspec": {
   "display_name": "Python 3",
   "language": "python",
   "name": "python3"
  },
  "language_info": {
   "codemirror_mode": {
    "name": "ipython",
    "version": 3
   },
   "file_extension": ".py",
   "mimetype": "text/x-python",
   "name": "python",
   "nbconvert_exporter": "python",
   "pygments_lexer": "ipython3",
   "version": "3.8.5"
  }
 },
 "nbformat": 4,
 "nbformat_minor": 4
}
